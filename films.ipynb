{
 "cells": [
  {
   "cell_type": "code",
   "execution_count": 1,
   "metadata": {},
   "outputs": [
    {
     "data": {
      "text/plain": [
       "{'id': '2baf70d1-42bb-4437-b551-e5fed5a87abe',\n",
       " 'title': 'Castle in the Sky',\n",
       " 'original_title': '天空の城ラピュタ',\n",
       " 'original_title_romanised': 'Tenkū no shiro Rapyuta',\n",
       " 'description': \"The orphan Sheeta inherited a mysterious crystal that links her to the mythical sky-kingdom of Laputa. With the help of resourceful Pazu and a rollicking band of sky pirates, she makes her way to the ruins of the once-great civilization. Sheeta and Pazu must outwit the evil Muska, who plans to use Laputa's science to make himself ruler of the world.\",\n",
       " 'director': 'Hayao Miyazaki',\n",
       " 'producer': 'Isao Takahata',\n",
       " 'release_date': '1986',\n",
       " 'running_time': '124',\n",
       " 'rt_score': '95',\n",
       " 'people': ['https://ghibliapi.herokuapp.com/people/'],\n",
       " 'species': ['https://ghibliapi.herokuapp.com/species/af3910a6-429f-4c74-9ad5-dfe1c4aa04f2'],\n",
       " 'locations': ['https://ghibliapi.herokuapp.com/locations/'],\n",
       " 'vehicles': ['https://ghibliapi.herokuapp.com/vehicles/'],\n",
       " 'url': 'https://ghibliapi.herokuapp.com/films/2baf70d1-42bb-4437-b551-e5fed5a87abe'}"
      ]
     },
     "execution_count": 1,
     "metadata": {},
     "output_type": "execute_result"
    }
   ],
   "source": [
    "import pandas as pd\n",
    "import requests\n",
    "base_url= \"http://linserv1.cims.nyu.edu:10000/films?_page=\"\n",
    "count =1\n",
    "res = requests.get(f'{base_url}{count}')\n",
    "data = res.json()\n",
    "data[0]"
   ]
  },
  {
   "cell_type": "code",
   "execution_count": 2,
   "metadata": {},
   "outputs": [
    {
     "data": {
      "text/plain": [
       "{'id': 'dc2e6bd1-8156-4886-adff-b39e6043af0c',\n",
       " 'title': 'Spirited Away',\n",
       " 'original_title': '千と千尋の神隠し',\n",
       " 'original_title_romanised': 'Sen to Chihiro no kamikakushi',\n",
       " 'description': 'Spirited Away is an Oscar winning Japanese animated film about a ten year old girl who wanders away from her parents along a path that leads to a world ruled by strange and unusual monster-like animals. Her parents have been changed into pigs along with others inside a bathhouse full of these creatures. Will she ever see the world how it once was?',\n",
       " 'director': 'Hayao Miyazaki',\n",
       " 'producer': 'Toshio Suzuki',\n",
       " 'release_date': '2001',\n",
       " 'running_time': '124',\n",
       " 'rt_score': '97',\n",
       " 'people': ['https://ghibliapi.herokuapp.com/people/'],\n",
       " 'species': ['https://ghibliapi.herokuapp.com/species/af3910a6-429f-4c74-9ad5-dfe1c4aa04f2'],\n",
       " 'locations': ['https://ghibliapi.herokuapp.com/locations/'],\n",
       " 'vehicles': ['https://ghibliapi.herokuapp.com/vehicles/'],\n",
       " 'url': 'https://ghibliapi.herokuapp.com/films/dc2e6bd1-8156-4886-adff-b39e6043af0c'}"
      ]
     },
     "execution_count": 2,
     "metadata": {},
     "output_type": "execute_result"
    }
   ],
   "source": [
    "res2 = requests.get(f'{base_url}{count+1}')\n",
    "data2 = res2.json()\n",
    "data2[0]"
   ]
  },
  {
   "cell_type": "markdown",
   "metadata": {},
   "source": [
    "These following keys will be useful to create the report: director, rt_score.\n",
    "\n",
    "When incrementing the last number in the url where page is 1, I got different result.\n",
    "all created dictionaries just changed, and when page is 4, the data will become []"
   ]
  },
  {
   "cell_type": "code",
   "execution_count": 3,
   "metadata": {},
   "outputs": [],
   "source": [
    "import pandas as pd\n",
    "import requests\n",
    "base_url= \"http://linserv1.cims.nyu.edu:10000/films?_page=\"\n",
    "count =1\n",
    "data = requests.get(f'{base_url}{count}').json()\n",
    "df = pd.json_normalize(data)\n",
    "while requests.get(f'{base_url}{count+1}').json() != []:\n",
    "    datanew = requests.get(f'{base_url}{count+1}').json()\n",
    "    dfnew = pd.json_normalize(datanew)\n",
    "    df = pd.concat([df,dfnew])\n",
    "    count = count +1\n"
   ]
  },
  {
   "cell_type": "code",
   "execution_count": 4,
   "metadata": {},
   "outputs": [
    {
     "data": {
      "text/html": [
       "<div>\n",
       "<style scoped>\n",
       "    .dataframe tbody tr th:only-of-type {\n",
       "        vertical-align: middle;\n",
       "    }\n",
       "\n",
       "    .dataframe tbody tr th {\n",
       "        vertical-align: top;\n",
       "    }\n",
       "\n",
       "    .dataframe thead th {\n",
       "        text-align: right;\n",
       "    }\n",
       "</style>\n",
       "<table border=\"1\" class=\"dataframe\">\n",
       "  <thead>\n",
       "    <tr style=\"text-align: right;\">\n",
       "      <th></th>\n",
       "      <th>avg_rt_score</th>\n",
       "      <th>count</th>\n",
       "    </tr>\n",
       "    <tr>\n",
       "      <th>director</th>\n",
       "      <th></th>\n",
       "      <th></th>\n",
       "    </tr>\n",
       "  </thead>\n",
       "  <tbody>\n",
       "    <tr>\n",
       "      <th>Gorō Miyazaki</th>\n",
       "      <td>62.000000</td>\n",
       "      <td>2</td>\n",
       "    </tr>\n",
       "    <tr>\n",
       "      <th>Hayao Miyazaki</th>\n",
       "      <td>92.777778</td>\n",
       "      <td>9</td>\n",
       "    </tr>\n",
       "    <tr>\n",
       "      <th>Hiromasa Yonebayashi</th>\n",
       "      <td>93.500000</td>\n",
       "      <td>2</td>\n",
       "    </tr>\n",
       "    <tr>\n",
       "      <th>Hiroyuki Morita</th>\n",
       "      <td>89.000000</td>\n",
       "      <td>1</td>\n",
       "    </tr>\n",
       "    <tr>\n",
       "      <th>Isao Takahata</th>\n",
       "      <td>90.000000</td>\n",
       "      <td>5</td>\n",
       "    </tr>\n",
       "    <tr>\n",
       "      <th>Michaël Dudok de Wit</th>\n",
       "      <td>93.000000</td>\n",
       "      <td>1</td>\n",
       "    </tr>\n",
       "    <tr>\n",
       "      <th>Yoshifumi Kondō</th>\n",
       "      <td>91.000000</td>\n",
       "      <td>1</td>\n",
       "    </tr>\n",
       "  </tbody>\n",
       "</table>\n",
       "</div>"
      ],
      "text/plain": [
       "                      avg_rt_score  count\n",
       "director                                 \n",
       "Gorō Miyazaki            62.000000      2\n",
       "Hayao Miyazaki           92.777778      9\n",
       "Hiromasa Yonebayashi     93.500000      2\n",
       "Hiroyuki Morita          89.000000      1\n",
       "Isao Takahata            90.000000      5\n",
       "Michaël Dudok de Wit     93.000000      1\n",
       "Yoshifumi Kondō          91.000000      1"
      ]
     },
     "execution_count": 4,
     "metadata": {},
     "output_type": "execute_result"
    }
   ],
   "source": [
    "df = df[['director','rt_score']]\n",
    "df['rt_score'] = pd.to_numeric(df['rt_score'],errors = 'coerce')\n",
    "averagert = df.groupby(by = 'director').mean()\n",
    "countdir = df.groupby(by = 'director').count()\n",
    "averagert = averagert.rename(columns = {'rt_score':'avg_rt_score'})\n",
    "countdir = countdir.rename(columns = {'rt_score':'count'})\n",
    "report = pd.concat([averagert,countdir], axis=1)\n",
    "report"
   ]
  },
  {
   "cell_type": "code",
   "execution_count": null,
   "metadata": {},
   "outputs": [],
   "source": []
  },
  {
   "cell_type": "code",
   "execution_count": null,
   "metadata": {},
   "outputs": [],
   "source": []
  },
  {
   "cell_type": "code",
   "execution_count": null,
   "metadata": {},
   "outputs": [],
   "source": []
  }
 ],
 "metadata": {
  "kernelspec": {
   "display_name": "Python 3",
   "language": "python",
   "name": "python3"
  },
  "language_info": {
   "codemirror_mode": {
    "name": "ipython",
    "version": 3
   },
   "file_extension": ".py",
   "mimetype": "text/x-python",
   "name": "python",
   "nbconvert_exporter": "python",
   "pygments_lexer": "ipython3",
   "version": "3.8.8"
  }
 },
 "nbformat": 4,
 "nbformat_minor": 4
}
